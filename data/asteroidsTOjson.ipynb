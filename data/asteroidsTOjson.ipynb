{
 "cells": [
  {
   "cell_type": "markdown",
   "metadata": {},
   "source": [
    "## Data in the asteroids file comes from http://ssd.jpl.nasa.gov/sbdb_query.cgi\n",
    "(downloaded Feb. 22, 2018)\n",
    "\n",
    "name,a,e,i,om,tp,per_y,w :\n",
    "\n",
    "IAU name, semi major axis (au), eccentricity, inclination (deg), longitude of ascending node (deg), date of peri (JED), period (yr), argument of pariapsis (deg)\n",
    "\n",
    "#### converted to json file with this python notebook"
   ]
  },
  {
   "cell_type": "code",
   "execution_count": 4,
   "metadata": {
    "collapsed": true
   },
   "outputs": [],
   "source": [
    "import pandas as pd\n",
    "from astropy.io import ascii\n"
   ]
  },
  {
   "cell_type": "code",
   "execution_count": 9,
   "metadata": {
    "collapsed": true
   },
   "outputs": [],
   "source": [
    "#create the JSON file, and then add the name of the variable (parts) that we want\n",
    "def createJSON(data, fname):\n",
    "    print(\"writing JSON file : \" + fname)\n",
    "    pd.Series(data).to_json(fname, orient='index') \n",
    "    print(\"done\")"
   ]
  },
  {
   "cell_type": "code",
   "execution_count": 5,
   "metadata": {
    "collapsed": true
   },
   "outputs": [],
   "source": [
    "asteroids = ascii.read('asteroids.csv')"
   ]
  },
  {
   "cell_type": "code",
   "execution_count": 12,
   "metadata": {
    "collapsed": false
   },
   "outputs": [],
   "source": [
    "#not sure how the file is sorted, but I will just take the top N\n",
    "Nkeep = 1000."
   ]
  },
  {
   "cell_type": "code",
   "execution_count": 16,
   "metadata": {
    "collapsed": false
   },
   "outputs": [],
   "source": [
    "astList = []\n",
    "for i,a in enumerate(asteroids):\n",
    "    ad = dict()\n",
    "    ad['name'] = a['name']\n",
    "    ad['semi_major_axis'] = a['a']\n",
    "    ad['eccentricity'] = a['e']\n",
    "    ad['inclination'] = a['i']\n",
    "    ad['longitude_of_ascending_node'] = a['om']\n",
    "    ad['argument_of_periapsis'] = a['w']\n",
    "    ad['tperi'] = a['tp']\n",
    "    ad['period'] = a['per_y']\n",
    "    \n",
    "    astList.append(ad)\n",
    "    \n",
    "    if (i == Nkeep):\n",
    "        break"
   ]
  },
  {
   "cell_type": "code",
   "execution_count": 17,
   "metadata": {
    "collapsed": false
   },
   "outputs": [
    {
     "name": "stdout",
     "output_type": "stream",
     "text": [
      "writing JSON file : asteroids.json\n",
      "done\n"
     ]
    }
   ],
   "source": [
    "createJSON(astList, 'asteroids.json')"
   ]
  },
  {
   "cell_type": "code",
   "execution_count": null,
   "metadata": {
    "collapsed": true
   },
   "outputs": [],
   "source": []
  }
 ],
 "metadata": {
  "kernelspec": {
   "display_name": "Python 2",
   "language": "python",
   "name": "python2"
  },
  "language_info": {
   "codemirror_mode": {
    "name": "ipython",
    "version": 2
   },
   "file_extension": ".py",
   "mimetype": "text/x-python",
   "name": "python",
   "nbconvert_exporter": "python",
   "pygments_lexer": "ipython2",
   "version": "2.7.13"
  }
 },
 "nbformat": 4,
 "nbformat_minor": 2
}
